{
 "cells": [
  {
   "cell_type": "code",
   "execution_count": 2,
   "id": "2beb3220-9b85-42c9-96ab-f5ff953e726a",
   "metadata": {},
   "outputs": [],
   "source": [
    "#extract sequences"
   ]
  },
  {
   "cell_type": "code",
   "execution_count": 1,
   "id": "d95be157-04ef-4358-b2b8-4d0c2e024602",
   "metadata": {},
   "outputs": [
    {
     "name": "stdout",
     "output_type": "stream",
     "text": [
      "/home/jovyan/final proj bioe\n"
     ]
    }
   ],
   "source": [
    "import os\n",
    "print(os.getcwd())"
   ]
  },
  {
   "cell_type": "code",
   "execution_count": 5,
   "id": "8c584a08-2b0a-44cd-9f97-d4608ed2d28e",
   "metadata": {},
   "outputs": [],
   "source": [
    "from Bio import SeqIO\n",
    "\n",
    "def extract_HA_sequences(fasta_files, gff_files, output_file):\n",
    "    pb2_sequences = []\n",
    "    for fasta_file, gff_file in zip(fasta_files, gff_files):\n",
    "        genome_dict = {record.id: record.seq for record in SeqIO.parse(fasta_file, \"fasta\")}\n",
    "        with open(gff_file) as gff:\n",
    "            for line in gff:\n",
    "                if not line.startswith(\"#\"):\n",
    "                    fields = line.strip().split(\"\\t\")\n",
    "                    if len(fields) > 2 and fields[2] == \"gene\" and \"HA\" in fields[8]:\n",
    "                        seq_id = fields[0]\n",
    "                        start, end = int(fields[3]) - 1, int(fields[4])\n",
    "                        pb2_seq = genome_dict[seq_id][start:end]\n",
    "                        pb2_sequences.append(pb2_seq)\n",
    "                        break\n",
    "    # Write PB2 sequences to a FASTA file\n",
    "    with open(output_file, \"w\") as out_fasta:\n",
    "        for i, seq in enumerate(pb2_sequences):\n",
    "            out_fasta.write(f\">strain_{i+1}\\n{seq}\\n\")\n",
    "\n",
    "# Paths to your FASTA and GFF files\n",
    "fasta_files = [\"flu_2018.fa\", \"flu_2021.fa\", \"flu_2022.fa\"]\n",
    "gff_files = [\"flu_2018.gff\", \"flu_2021.gff\", \"flu_2022.gff\"]\n",
    "\n",
    "output_fasta = \"HA_sequences.fasta\"\n",
    "\n",
    "extract_HA_sequences(fasta_files, gff_files, output_fasta)"
   ]
  },
  {
   "cell_type": "code",
   "execution_count": 7,
   "id": "62ffa35f-a90d-4903-8ac2-c14a04899b38",
   "metadata": {},
   "outputs": [],
   "source": [
    "from Bio.Align.Applications import MafftCommandline\n",
    "import os\n",
    "\n",
    "def align_sequences(input_file, output_file=\"aligned_sequences.fasta\"):\n",
    "    mafft_cline = MafftCommandline(input=input_file)\n",
    "    stdout, stderr = mafft_cline()\n",
    "    with open(output_file, \"w\") as aligned:\n",
    "        aligned.write(stdout)\n",
    "    return output_file\n",
    "\n",
    "aligned_file = align_sequences(\"HA_sequences.fasta\", \"HA_aligned_sequences.fasta\")"
   ]
  },
  {
   "cell_type": "code",
   "execution_count": 10,
   "id": "8d80a94a-991e-44d2-a48f-95d8076913df",
   "metadata": {},
   "outputs": [
    {
     "name": "stdout",
     "output_type": "stream",
     "text": [
      "Conservation scores written to HA_conservation.bed\n"
     ]
    }
   ],
   "source": [
    "from Bio import AlignIO\n",
    "import math\n",
    "import numpy as np\n",
    "\n",
    "def calculate_conservation_scores(alignment_file, output_file):\n",
    "    \n",
    "    alignment = AlignIO.read(alignment_file, \"fasta\")\n",
    "    seq_len = alignment.get_alignment_length()\n",
    "    scores = []\n",
    "\n",
    "    for i in range(seq_len):\n",
    "        column = alignment[:, i]\n",
    "        valid_bases = [base for base in column if base not in {\"-\", \"N\"}]\n",
    "        if len(valid_bases) == 0:\n",
    "            conservation_score = 0 \n",
    "        else:\n",
    "            freq = {base: valid_bases.count(base) / len(valid_bases) for base in set(valid_bases)}\n",
    "            entropy = -sum(p * math.log2(p) for p in freq.values())\n",
    "            conservation_score = 1 - np.divide(entropy, math.log2(len(freq)), out=np.zeros_like (entropy), where= (math.log2(len(freq))) != 0)\n",
    "        \n",
    "        scores.append(conservation_score)\n",
    "\n",
    "    with open(output_file, \"w\") as bed:\n",
    "        for i, score in enumerate(scores):\n",
    "            bed.write(f\"HA\\t{i}\\t{i+1}\\t{score:.4f}\\n\")\n",
    "\n",
    "    print(f\"Conservation scores written to {output_file}\")\n",
    "\n",
    "calculate_conservation_scores(\"HA_sequences.fasta\", \"HA_conservation.bed\")"
   ]
  },
  {
   "cell_type": "code",
   "execution_count": 1,
   "id": "0179ec87-4b7c-4e54-8fe9-c6400193c911",
   "metadata": {},
   "outputs": [
    {
     "name": "stdout",
     "output_type": "stream",
     "text": [
      "Conservation scores written to HA_conservation.wig\n"
     ]
    }
   ],
   "source": [
    "from Bio import AlignIO\n",
    "import math\n",
    "import numpy as np\n",
    "\n",
    "def calculate_conservation_scores_to_wig(alignment_file, output_file, chrom=\"MT781554.2\", start=1, step=1):\n",
    "    \n",
    "    alignment = AlignIO.read(alignment_file, \"fasta\")\n",
    "    seq_len = alignment.get_alignment_length()\n",
    "    scores = []\n",
    "\n",
    "    for i in range(seq_len):\n",
    "        column = alignment[:, i]\n",
    "        valid_bases = [base for base in column if base not in {\"-\", \"N\"}]\n",
    "        if len(valid_bases) == 0:\n",
    "            conservation_score = 0\n",
    "        else:\n",
    "            freq = {base: valid_bases.count(base) / len(valid_bases) for base in set(valid_bases)}\n",
    "            entropy = -sum(p * math.log2(p) for p in freq.values())\n",
    "            conservation_score = 1 - np.divide(entropy, math.log2(len(freq)), out=np.zeros_like(entropy), where=(math.log2(len(freq))) != 0)\n",
    "        \n",
    "        scores.append(conservation_score)\n",
    "\n",
    "    with open(output_file, \"w\") as wig:\n",
    "        wig.write(f\"track type=wiggle_0 name=\\\"Conservation Scores\\\" description=\\\"Conservation scores for HA alignment\\\"\\n\")\n",
    "        wig.write(f\"fixedStep chrom={chrom} start={start} step={step}\\n\")\n",
    "        for score in scores:\n",
    "            wig.write(f\"{score:.4f}\\n\")\n",
    "\n",
    "    print(f\"Conservation scores written to {output_file}\")\n",
    "\n",
    "calculate_conservation_scores_to_wig(\"HA_sequences.fasta\", \"HA_conservation.wig\")"
   ]
  },
  {
   "cell_type": "code",
   "execution_count": null,
   "id": "e3117367-74cc-461e-af46-a976e6d88797",
   "metadata": {},
   "outputs": [],
   "source": []
  }
 ],
 "metadata": {
  "kernelspec": {
   "display_name": "Python 3 (ipykernel)",
   "language": "python",
   "name": "python3"
  },
  "language_info": {
   "codemirror_mode": {
    "name": "ipython",
    "version": 3
   },
   "file_extension": ".py",
   "mimetype": "text/x-python",
   "name": "python",
   "nbconvert_exporter": "python",
   "pygments_lexer": "ipython3",
   "version": "3.11.0"
  }
 },
 "nbformat": 4,
 "nbformat_minor": 5
}
